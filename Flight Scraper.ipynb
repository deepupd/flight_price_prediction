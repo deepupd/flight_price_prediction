{
 "cells": [
  {
   "cell_type": "markdown",
   "metadata": {},
   "source": [
    "## Import the required libraries"
   ]
  },
  {
   "cell_type": "code",
   "execution_count": 1,
   "metadata": {},
   "outputs": [],
   "source": [
    "#pip install selenium\n",
    "import pandas as pd #data analysis\n",
    "\n",
    "from bs4 import BeautifulSoup #web scraper/data parser\n",
    "\n",
    "#Browser automation\n",
    "import selenium.webdriver \n",
    "from selenium.webdriver.support.ui import WebDriverWait\n",
    "from selenium.webdriver.common.keys import Keys\n",
    "\n",
    "import time\n",
    "from datetime import datetime, timedelta"
   ]
  },
  {
   "cell_type": "markdown",
   "metadata": {},
   "source": [
    "## We decide the timestamp between which we want the data"
   ]
  },
  {
   "cell_type": "code",
   "execution_count": 2,
   "metadata": {},
   "outputs": [],
   "source": [
    "start_date = datetime.strptime(\"28/08/2020\", \"%d/%m/%Y\")\n",
    "end_date = datetime.strptime(\"30/08/2020\", \"%d/%m/%Y\")\n",
    "delta = timedelta(days = 1)\n",
    "dates = []\n",
    "while start_date <= end_date:\n",
    "    dates.append(start_date.strftime(\"%d/%m/%Y\"))\n",
    "    start_date = start_date + delta"
   ]
  },
  {
   "cell_type": "code",
   "execution_count": 3,
   "metadata": {},
   "outputs": [
    {
     "data": {
      "text/plain": [
       "['28/08/2020', '29/08/2020', '30/08/2020']"
      ]
     },
     "execution_count": 3,
     "metadata": {},
     "output_type": "execute_result"
    }
   ],
   "source": [
    "dates"
   ]
  },
  {
   "cell_type": "markdown",
   "metadata": {},
   "source": [
    "## Scrape function that takes two parameters: source & destination"
   ]
  },
  {
   "cell_type": "code",
   "execution_count": 4,
   "metadata": {},
   "outputs": [],
   "source": [
    "#Defining the web crawler fucntion\n",
    "def scrape(source, destination):\n",
    "    \n",
    "    data = pd.DataFrame([])\n",
    "    trDate = dates[0]\n",
    "    origin = source\n",
    "    destin = destination\n",
    "    baseDataUrl = \"https://www.makemytrip.com/flight/search?itinerary=\"+ origin +\"-\"+ destin +\"-\"+ trDate +\"&tripType=O&paxType=A-1_C-0_I-0&intl=false&cabinClass=E\"\n",
    "    driver = selenium.webdriver.Chrome(r\"C:\\Users\\deepu\\Downloads\\chromedriver.exe\") #Change URL accordingly\n",
    "    driver.get(baseDataUrl) #Opening the base data URL\n",
    "    time.sleep(5) #Waiting 5 seconds for webpage to load\n",
    "\n",
    "    for i in range(0, len(dates)):\n",
    "        \n",
    "        last_height = driver.execute_script(\"return document.body.scrollHeight\")\n",
    "        while True:\n",
    "            # Scroll down to bottom\n",
    "            driver.execute_script(\"window.scrollTo(0, document.body.scrollHeight);\")\n",
    "\n",
    "            # Wait to load page\n",
    "            time.sleep(1)\n",
    "\n",
    "            # Calculate new scroll height and compare with last scroll height\n",
    "            new_height = driver.execute_script(\"return document.body.scrollHeight\")\n",
    "            if new_height == last_height:\n",
    "                break\n",
    "            last_height = new_height\n",
    "\n",
    "        body = driver.find_element_by_tag_name(\"body\").get_attribute(\"innerHTML\")\n",
    "        #driver.quit()\n",
    "\n",
    "        soupBody = BeautifulSoup(body) # Parse the inner HTML using BeautifulSoup\n",
    "\n",
    "        spanFlightName = soupBody.findAll(\"span\", {\"class\": \"airways-name\"}) # Tags with Flight Name\n",
    "        divDeptTime = soupBody.findAll(\"div\", {\"class\": \"dept-time\"}) # Tags with Departure Time\n",
    "        pDeptCity = soupBody.findAll(\"p\", {\"class\": \"dept-city\"}) # Tags with Departure City\n",
    "        pFlightDuration = soupBody.findAll(\"p\", {\"class\": \"fli-duration\"}) # Tags with Flight Duration\n",
    "        pArrivalTime = soupBody.findAll(\"p\", {\"class\": \"reaching-time append_bottom3\"}) # Tags with Arrival Time\n",
    "        pArrivalCity = soupBody.findAll(\"p\", {\"class\": \"arrival-city\"}) # Tags with Arrival City\n",
    "        spanFlightCost = soupBody.findAll(\"span\", {\"class\": \"actual-price\"}) # Tags with Flight Cost\n",
    "        pTotalStops = soupBody.findAll(\"p\", {\"class\": \"fli-stops-desc\"}) # Tags with Total Stops\n",
    "        \n",
    "        flightsData = [[\"flight_name\", \"departure_time\", \"departure_city\", \"flight_duration\", \"arrival_time\", \"arrival_city\", \"flight_cost\", \"total_stops\", 'date_of_journey', 'timestamp']]\n",
    "\n",
    "        # Extracting data from tags and appending to main database flightsData\n",
    "        for j in range(0, len(spanFlightName)):\n",
    "            flightsData.append([spanFlightName[j].text, divDeptTime[j].text, pDeptCity[j].text, pFlightDuration[j].text, pArrivalTime[j].text, pArrivalCity[j].text, spanFlightCost[j].text, pTotalStops[j].text, dates[i], datetime.now().strftime(\"%d/%m/%Y\")])\n",
    "\n",
    "        \n",
    "        data = data.append(pd.DataFrame(flightsData))\n",
    "        print(dates[i])\n",
    "        \n",
    "        driver.find_element_by_tag_name('body').send_keys(Keys.CONTROL + Keys.HOME) #scroll up\n",
    "        time.sleep(2)\n",
    "        \n",
    "        try:\n",
    "            driver.find_elements_by_xpath('//div[@class = \"item \"]')[i].click()\n",
    "            time.sleep(5)\n",
    "        except:\n",
    "            driver.refresh()\n",
    "        #data.columns = data.iloc[0]\n",
    "        #data = data[1:]\n",
    "\n",
    "    return data"
   ]
  },
  {
   "cell_type": "code",
   "execution_count": 5,
   "metadata": {},
   "outputs": [
    {
     "name": "stdout",
     "output_type": "stream",
     "text": [
      "28/08/2020\n",
      "29/08/2020\n",
      "30/08/2020\n"
     ]
    }
   ],
   "source": [
    "df = scrape('BOM','DEL')"
   ]
  },
  {
   "cell_type": "code",
   "execution_count": 6,
   "metadata": {},
   "outputs": [
    {
     "data": {
      "text/html": [
       "<div>\n",
       "<style scoped>\n",
       "    .dataframe tbody tr th:only-of-type {\n",
       "        vertical-align: middle;\n",
       "    }\n",
       "\n",
       "    .dataframe tbody tr th {\n",
       "        vertical-align: top;\n",
       "    }\n",
       "\n",
       "    .dataframe thead th {\n",
       "        text-align: right;\n",
       "    }\n",
       "</style>\n",
       "<table border=\"1\" class=\"dataframe\">\n",
       "  <thead>\n",
       "    <tr style=\"text-align: right;\">\n",
       "      <th></th>\n",
       "      <th>0</th>\n",
       "      <th>1</th>\n",
       "      <th>2</th>\n",
       "      <th>3</th>\n",
       "      <th>4</th>\n",
       "      <th>5</th>\n",
       "      <th>6</th>\n",
       "      <th>7</th>\n",
       "      <th>8</th>\n",
       "      <th>9</th>\n",
       "    </tr>\n",
       "  </thead>\n",
       "  <tbody>\n",
       "    <tr>\n",
       "      <th>0</th>\n",
       "      <td>flight_name</td>\n",
       "      <td>departure_time</td>\n",
       "      <td>departure_city</td>\n",
       "      <td>flight_duration</td>\n",
       "      <td>arrival_time</td>\n",
       "      <td>arrival_city</td>\n",
       "      <td>flight_cost</td>\n",
       "      <td>total_stops</td>\n",
       "      <td>date_of_journey</td>\n",
       "      <td>timestamp</td>\n",
       "    </tr>\n",
       "    <tr>\n",
       "      <th>0</th>\n",
       "      <td>flight_name</td>\n",
       "      <td>departure_time</td>\n",
       "      <td>departure_city</td>\n",
       "      <td>flight_duration</td>\n",
       "      <td>arrival_time</td>\n",
       "      <td>arrival_city</td>\n",
       "      <td>flight_cost</td>\n",
       "      <td>total_stops</td>\n",
       "      <td>date_of_journey</td>\n",
       "      <td>timestamp</td>\n",
       "    </tr>\n",
       "    <tr>\n",
       "      <th>0</th>\n",
       "      <td>flight_name</td>\n",
       "      <td>departure_time</td>\n",
       "      <td>departure_city</td>\n",
       "      <td>flight_duration</td>\n",
       "      <td>arrival_time</td>\n",
       "      <td>arrival_city</td>\n",
       "      <td>flight_cost</td>\n",
       "      <td>total_stops</td>\n",
       "      <td>date_of_journey</td>\n",
       "      <td>timestamp</td>\n",
       "    </tr>\n",
       "  </tbody>\n",
       "</table>\n",
       "</div>"
      ],
      "text/plain": [
       "             0               1               2                3             4  \\\n",
       "0  flight_name  departure_time  departure_city  flight_duration  arrival_time   \n",
       "0  flight_name  departure_time  departure_city  flight_duration  arrival_time   \n",
       "0  flight_name  departure_time  departure_city  flight_duration  arrival_time   \n",
       "\n",
       "              5            6            7                8          9  \n",
       "0  arrival_city  flight_cost  total_stops  date_of_journey  timestamp  \n",
       "0  arrival_city  flight_cost  total_stops  date_of_journey  timestamp  \n",
       "0  arrival_city  flight_cost  total_stops  date_of_journey  timestamp  "
      ]
     },
     "execution_count": 6,
     "metadata": {},
     "output_type": "execute_result"
    }
   ],
   "source": [
    "df"
   ]
  },
  {
   "cell_type": "code",
   "execution_count": 7,
   "metadata": {},
   "outputs": [],
   "source": [
    "df.to_csv(\"C:/Users/deepu/Desktop/Python codes/Capstone Project/Del_Hyd_new.csv\")"
   ]
  },
  {
   "cell_type": "code",
   "execution_count": 8,
   "metadata": {},
   "outputs": [
    {
     "name": "stderr",
     "output_type": "stream",
     "text": [
      "C:\\Users\\deepu\\Anaconda3\\lib\\site-packages\\ipykernel_launcher.py:6: FutureWarning: Sorting because non-concatenation axis is not aligned. A future version\n",
      "of pandas will change to not sort by default.\n",
      "\n",
      "To accept the future behavior, pass 'sort=True'.\n",
      "\n",
      "To retain the current behavior and silence the warning, pass sort=False\n",
      "\n",
      "  \n"
     ]
    }
   ],
   "source": [
    "import os\n",
    "import glob\n",
    "import pandas as pd\n",
    "os.chdir(\"C:/Users/deepu/Desktop/Python codes/Capstone Project\")\n",
    "all_filenames = [i for i in glob.glob('*.{}'.format('csv'))]\n",
    "df = pd.concat([pd.read_csv(f) for f in all_filenames])\n",
    "df=df.drop(['Unnamed: 0'],1)\n",
    "df.columns = df.iloc[0]\n",
    "df = df[df['flight_name'] !='flight_name']\n",
    "df.rename(columns = {'datee':'Date_of_Journey', 'timee':'Day_of_Booking'}, inplace = True)\n",
    "df.to_csv(\"C:/Users/deepu/Desktop/Python codes/Capstone Project/final_data.csv\", index=False)"
   ]
  },
  {
   "cell_type": "code",
   "execution_count": null,
   "metadata": {},
   "outputs": [],
   "source": []
  }
 ],
 "metadata": {
  "kernelspec": {
   "display_name": "Python 3",
   "language": "python",
   "name": "python3"
  },
  "language_info": {
   "codemirror_mode": {
    "name": "ipython",
    "version": 3
   },
   "file_extension": ".py",
   "mimetype": "text/x-python",
   "name": "python",
   "nbconvert_exporter": "python",
   "pygments_lexer": "ipython3",
   "version": "3.6.5"
  }
 },
 "nbformat": 4,
 "nbformat_minor": 4
}
